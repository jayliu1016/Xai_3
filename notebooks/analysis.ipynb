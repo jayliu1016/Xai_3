{
  "nbformat": 4,
  "nbformat_minor": 0,
  "metadata": {
    "colab": {
      "provenance": [],
      "authorship_tag": "ABX9TyPXRxWfuoA8ZP7R6wdj+4Cw",
      "include_colab_link": true
    },
    "kernelspec": {
      "name": "python3",
      "display_name": "Python 3"
    },
    "language_info": {
      "name": "python"
    }
  },
  "cells": [
    {
      "cell_type": "markdown",
      "metadata": {
        "id": "view-in-github",
        "colab_type": "text"
      },
      "source": [
        "<a href=\"https://colab.research.google.com/github/jayliu1016/Xai_3/blob/main/notebooks/analysis.ipynb\" target=\"_parent\"><img src=\"https://colab.research.google.com/assets/colab-badge.svg\" alt=\"Open In Colab\"/></a>"
      ]
    },
    {
      "cell_type": "code",
      "execution_count": 1,
      "metadata": {
        "id": "rX4HCbX_ikk_"
      },
      "outputs": [],
      "source": [
        "!pip -q install PyALE statsmodels --upgrade\n"
      ]
    },
    {
      "cell_type": "code",
      "source": [
        "import os, pandas as pd\n",
        "CSV_LOCAL = \"data/AmesHousing.csv\"\n",
        "REPO_RAW = \"https://raw.githubusercontent.com/jayliu1016/Xai_3/main/data/AmesHousing.csv\"\n",
        "\n",
        "def load_ames():\n",
        "    if os.path.exists(CSV_LOCAL):\n",
        "        return pd.read_csv(CSV_LOCAL)\n",
        "    return pd.read_csv(REPO_RAW)\n",
        "\n",
        "df = load_ames()\n",
        "df.shape, df.head()\n"
      ],
      "metadata": {
        "id": "wQnyIplYjI46"
      },
      "execution_count": null,
      "outputs": []
    }
  ]
}